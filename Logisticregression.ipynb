{
  "cells": [
    {
      "cell_type": "markdown",
      "metadata": {},
      "source": [
        "Mini Project 1 To get the Data"
      ]
    },
    {
      "cell_type": "code",
      "execution_count": 3,
      "metadata": {
        "colab": {
          "base_uri": "https://localhost:8080/"
        },
        "id": "-7RFYokZAb_k",
        "outputId": "3e605f29-26d3-4a56-e4ed-f10b1d090fa2"
      },
      "outputs": [
        {
          "name": "stderr",
          "output_type": "stream",
          "text": [
            "/usr/local/lib/python3.7/dist-packages/IPython/core/interactiveshell.py:2882: DtypeWarning: Columns (7) have mixed types.Specify dtype option on import or set low_memory=False.\n",
            "  exec(code_obj, self.user_global_ns, self.user_ns)\n"
          ]
        }
      ],
      "source": [
        "import tensorflow as tf\n",
        "import numpy as np\n",
        "import pandas as pd\n",
        "import matplotlib.pyplot as plt\n",
        "path=\"/content/drive/MyDrive/dataset/corona_tested_individuals_ver_0083.english.csv\"\n",
        "data_set=pd.read_csv(path)"
      ]
    },
    {
      "cell_type": "code",
      "execution_count": 4,
      "metadata": {
        "colab": {
          "base_uri": "https://localhost:8080/",
          "height": 206
        },
        "id": "-fFZrEevDk8c",
        "outputId": "30001608-12c6-4242-ec4a-a444bf93288c"
      },
      "outputs": [
        {
          "data": {
            "text/html": [
              "\n",
              "  <div id=\"df-4be76852-c5ca-40c7-94ac-7e7a019b8d8e\">\n",
              "    <div class=\"colab-df-container\">\n",
              "      <div>\n",
              "<style scoped>\n",
              "    .dataframe tbody tr th:only-of-type {\n",
              "        vertical-align: middle;\n",
              "    }\n",
              "\n",
              "    .dataframe tbody tr th {\n",
              "        vertical-align: top;\n",
              "    }\n",
              "\n",
              "    .dataframe thead th {\n",
              "        text-align: right;\n",
              "    }\n",
              "</style>\n",
              "<table border=\"1\" class=\"dataframe\">\n",
              "  <thead>\n",
              "    <tr style=\"text-align: right;\">\n",
              "      <th></th>\n",
              "      <th>test_date</th>\n",
              "      <th>cough</th>\n",
              "      <th>fever</th>\n",
              "      <th>sore_throat</th>\n",
              "      <th>shortness_of_breath</th>\n",
              "      <th>head_ache</th>\n",
              "      <th>corona_result</th>\n",
              "      <th>age_60_and_above</th>\n",
              "      <th>gender</th>\n",
              "      <th>test_indication</th>\n",
              "    </tr>\n",
              "  </thead>\n",
              "  <tbody>\n",
              "    <tr>\n",
              "      <th>0</th>\n",
              "      <td>2020-11-12</td>\n",
              "      <td>0</td>\n",
              "      <td>0</td>\n",
              "      <td>0</td>\n",
              "      <td>0</td>\n",
              "      <td>0</td>\n",
              "      <td>negative</td>\n",
              "      <td>No</td>\n",
              "      <td>male</td>\n",
              "      <td>Other</td>\n",
              "    </tr>\n",
              "    <tr>\n",
              "      <th>1</th>\n",
              "      <td>2020-11-12</td>\n",
              "      <td>0</td>\n",
              "      <td>1</td>\n",
              "      <td>0</td>\n",
              "      <td>0</td>\n",
              "      <td>0</td>\n",
              "      <td>negative</td>\n",
              "      <td>No</td>\n",
              "      <td>male</td>\n",
              "      <td>Other</td>\n",
              "    </tr>\n",
              "    <tr>\n",
              "      <th>2</th>\n",
              "      <td>2020-11-12</td>\n",
              "      <td>0</td>\n",
              "      <td>0</td>\n",
              "      <td>0</td>\n",
              "      <td>0</td>\n",
              "      <td>0</td>\n",
              "      <td>negative</td>\n",
              "      <td>Yes</td>\n",
              "      <td>female</td>\n",
              "      <td>Other</td>\n",
              "    </tr>\n",
              "    <tr>\n",
              "      <th>3</th>\n",
              "      <td>2020-11-12</td>\n",
              "      <td>0</td>\n",
              "      <td>0</td>\n",
              "      <td>0</td>\n",
              "      <td>0</td>\n",
              "      <td>0</td>\n",
              "      <td>negative</td>\n",
              "      <td>No</td>\n",
              "      <td>male</td>\n",
              "      <td>Other</td>\n",
              "    </tr>\n",
              "    <tr>\n",
              "      <th>4</th>\n",
              "      <td>2020-11-12</td>\n",
              "      <td>0</td>\n",
              "      <td>1</td>\n",
              "      <td>0</td>\n",
              "      <td>0</td>\n",
              "      <td>0</td>\n",
              "      <td>negative</td>\n",
              "      <td>No</td>\n",
              "      <td>male</td>\n",
              "      <td>Contact with confirmed</td>\n",
              "    </tr>\n",
              "  </tbody>\n",
              "</table>\n",
              "</div>\n",
              "      <button class=\"colab-df-convert\" onclick=\"convertToInteractive('df-4be76852-c5ca-40c7-94ac-7e7a019b8d8e')\"\n",
              "              title=\"Convert this dataframe to an interactive table.\"\n",
              "              style=\"display:none;\">\n",
              "        \n",
              "  <svg xmlns=\"http://www.w3.org/2000/svg\" height=\"24px\"viewBox=\"0 0 24 24\"\n",
              "       width=\"24px\">\n",
              "    <path d=\"M0 0h24v24H0V0z\" fill=\"none\"/>\n",
              "    <path d=\"M18.56 5.44l.94 2.06.94-2.06 2.06-.94-2.06-.94-.94-2.06-.94 2.06-2.06.94zm-11 1L8.5 8.5l.94-2.06 2.06-.94-2.06-.94L8.5 2.5l-.94 2.06-2.06.94zm10 10l.94 2.06.94-2.06 2.06-.94-2.06-.94-.94-2.06-.94 2.06-2.06.94z\"/><path d=\"M17.41 7.96l-1.37-1.37c-.4-.4-.92-.59-1.43-.59-.52 0-1.04.2-1.43.59L10.3 9.45l-7.72 7.72c-.78.78-.78 2.05 0 2.83L4 21.41c.39.39.9.59 1.41.59.51 0 1.02-.2 1.41-.59l7.78-7.78 2.81-2.81c.8-.78.8-2.07 0-2.86zM5.41 20L4 18.59l7.72-7.72 1.47 1.35L5.41 20z\"/>\n",
              "  </svg>\n",
              "      </button>\n",
              "      \n",
              "  <style>\n",
              "    .colab-df-container {\n",
              "      display:flex;\n",
              "      flex-wrap:wrap;\n",
              "      gap: 12px;\n",
              "    }\n",
              "\n",
              "    .colab-df-convert {\n",
              "      background-color: #E8F0FE;\n",
              "      border: none;\n",
              "      border-radius: 50%;\n",
              "      cursor: pointer;\n",
              "      display: none;\n",
              "      fill: #1967D2;\n",
              "      height: 32px;\n",
              "      padding: 0 0 0 0;\n",
              "      width: 32px;\n",
              "    }\n",
              "\n",
              "    .colab-df-convert:hover {\n",
              "      background-color: #E2EBFA;\n",
              "      box-shadow: 0px 1px 2px rgba(60, 64, 67, 0.3), 0px 1px 3px 1px rgba(60, 64, 67, 0.15);\n",
              "      fill: #174EA6;\n",
              "    }\n",
              "\n",
              "    [theme=dark] .colab-df-convert {\n",
              "      background-color: #3B4455;\n",
              "      fill: #D2E3FC;\n",
              "    }\n",
              "\n",
              "    [theme=dark] .colab-df-convert:hover {\n",
              "      background-color: #434B5C;\n",
              "      box-shadow: 0px 1px 3px 1px rgba(0, 0, 0, 0.15);\n",
              "      filter: drop-shadow(0px 1px 2px rgba(0, 0, 0, 0.3));\n",
              "      fill: #FFFFFF;\n",
              "    }\n",
              "  </style>\n",
              "\n",
              "      <script>\n",
              "        const buttonEl =\n",
              "          document.querySelector('#df-4be76852-c5ca-40c7-94ac-7e7a019b8d8e button.colab-df-convert');\n",
              "        buttonEl.style.display =\n",
              "          google.colab.kernel.accessAllowed ? 'block' : 'none';\n",
              "\n",
              "        async function convertToInteractive(key) {\n",
              "          const element = document.querySelector('#df-4be76852-c5ca-40c7-94ac-7e7a019b8d8e');\n",
              "          const dataTable =\n",
              "            await google.colab.kernel.invokeFunction('convertToInteractive',\n",
              "                                                     [key], {});\n",
              "          if (!dataTable) return;\n",
              "\n",
              "          const docLinkHtml = 'Like what you see? Visit the ' +\n",
              "            '<a target=\"_blank\" href=https://colab.research.google.com/notebooks/data_table.ipynb>data table notebook</a>'\n",
              "            + ' to learn more about interactive tables.';\n",
              "          element.innerHTML = '';\n",
              "          dataTable['output_type'] = 'display_data';\n",
              "          await google.colab.output.renderOutput(dataTable, element);\n",
              "          const docLink = document.createElement('div');\n",
              "          docLink.innerHTML = docLinkHtml;\n",
              "          element.appendChild(docLink);\n",
              "        }\n",
              "      </script>\n",
              "    </div>\n",
              "  </div>\n",
              "  "
            ],
            "text/plain": [
              "    test_date  cough  fever  sore_throat  shortness_of_breath  head_ache  \\\n",
              "0  2020-11-12      0      0            0                    0          0   \n",
              "1  2020-11-12      0      1            0                    0          0   \n",
              "2  2020-11-12      0      0            0                    0          0   \n",
              "3  2020-11-12      0      0            0                    0          0   \n",
              "4  2020-11-12      0      1            0                    0          0   \n",
              "\n",
              "  corona_result age_60_and_above  gender         test_indication  \n",
              "0      negative               No    male                   Other  \n",
              "1      negative               No    male                   Other  \n",
              "2      negative              Yes  female                   Other  \n",
              "3      negative               No    male                   Other  \n",
              "4      negative               No    male  Contact with confirmed  "
            ]
          },
          "execution_count": 4,
          "metadata": {},
          "output_type": "execute_result"
        }
      ],
      "source": [
        "data_set.head()"
      ]
    },
    {
      "cell_type": "code",
      "execution_count": 5,
      "metadata": {
        "id": "JZsHMdhuD09Z"
      },
      "outputs": [],
      "source": [
        "cols=[]\n",
        "for i in range(1,9):\n",
        "  cols.append(i)"
      ]
    },
    {
      "cell_type": "code",
      "execution_count": 6,
      "metadata": {
        "colab": {
          "base_uri": "https://localhost:8080/",
          "height": 206
        },
        "id": "T2B5sxWAFvKc",
        "outputId": "8eb46fed-9abb-4992-d2ce-eaf78647b2e4"
      },
      "outputs": [
        {
          "data": {
            "text/html": [
              "\n",
              "  <div id=\"df-071e51e5-1a0a-4df4-9b37-93b718afc660\">\n",
              "    <div class=\"colab-df-container\">\n",
              "      <div>\n",
              "<style scoped>\n",
              "    .dataframe tbody tr th:only-of-type {\n",
              "        vertical-align: middle;\n",
              "    }\n",
              "\n",
              "    .dataframe tbody tr th {\n",
              "        vertical-align: top;\n",
              "    }\n",
              "\n",
              "    .dataframe thead th {\n",
              "        text-align: right;\n",
              "    }\n",
              "</style>\n",
              "<table border=\"1\" class=\"dataframe\">\n",
              "  <thead>\n",
              "    <tr style=\"text-align: right;\">\n",
              "      <th></th>\n",
              "      <th>cough</th>\n",
              "      <th>fever</th>\n",
              "      <th>sore_throat</th>\n",
              "      <th>shortness_of_breath</th>\n",
              "      <th>head_ache</th>\n",
              "      <th>corona_result</th>\n",
              "      <th>age_60_and_above</th>\n",
              "      <th>gender</th>\n",
              "    </tr>\n",
              "  </thead>\n",
              "  <tbody>\n",
              "    <tr>\n",
              "      <th>0</th>\n",
              "      <td>0</td>\n",
              "      <td>0</td>\n",
              "      <td>0</td>\n",
              "      <td>0</td>\n",
              "      <td>0</td>\n",
              "      <td>negative</td>\n",
              "      <td>No</td>\n",
              "      <td>male</td>\n",
              "    </tr>\n",
              "    <tr>\n",
              "      <th>1</th>\n",
              "      <td>0</td>\n",
              "      <td>1</td>\n",
              "      <td>0</td>\n",
              "      <td>0</td>\n",
              "      <td>0</td>\n",
              "      <td>negative</td>\n",
              "      <td>No</td>\n",
              "      <td>male</td>\n",
              "    </tr>\n",
              "    <tr>\n",
              "      <th>2</th>\n",
              "      <td>0</td>\n",
              "      <td>0</td>\n",
              "      <td>0</td>\n",
              "      <td>0</td>\n",
              "      <td>0</td>\n",
              "      <td>negative</td>\n",
              "      <td>Yes</td>\n",
              "      <td>female</td>\n",
              "    </tr>\n",
              "    <tr>\n",
              "      <th>3</th>\n",
              "      <td>0</td>\n",
              "      <td>0</td>\n",
              "      <td>0</td>\n",
              "      <td>0</td>\n",
              "      <td>0</td>\n",
              "      <td>negative</td>\n",
              "      <td>No</td>\n",
              "      <td>male</td>\n",
              "    </tr>\n",
              "    <tr>\n",
              "      <th>4</th>\n",
              "      <td>0</td>\n",
              "      <td>1</td>\n",
              "      <td>0</td>\n",
              "      <td>0</td>\n",
              "      <td>0</td>\n",
              "      <td>negative</td>\n",
              "      <td>No</td>\n",
              "      <td>male</td>\n",
              "    </tr>\n",
              "  </tbody>\n",
              "</table>\n",
              "</div>\n",
              "      <button class=\"colab-df-convert\" onclick=\"convertToInteractive('df-071e51e5-1a0a-4df4-9b37-93b718afc660')\"\n",
              "              title=\"Convert this dataframe to an interactive table.\"\n",
              "              style=\"display:none;\">\n",
              "        \n",
              "  <svg xmlns=\"http://www.w3.org/2000/svg\" height=\"24px\"viewBox=\"0 0 24 24\"\n",
              "       width=\"24px\">\n",
              "    <path d=\"M0 0h24v24H0V0z\" fill=\"none\"/>\n",
              "    <path d=\"M18.56 5.44l.94 2.06.94-2.06 2.06-.94-2.06-.94-.94-2.06-.94 2.06-2.06.94zm-11 1L8.5 8.5l.94-2.06 2.06-.94-2.06-.94L8.5 2.5l-.94 2.06-2.06.94zm10 10l.94 2.06.94-2.06 2.06-.94-2.06-.94-.94-2.06-.94 2.06-2.06.94z\"/><path d=\"M17.41 7.96l-1.37-1.37c-.4-.4-.92-.59-1.43-.59-.52 0-1.04.2-1.43.59L10.3 9.45l-7.72 7.72c-.78.78-.78 2.05 0 2.83L4 21.41c.39.39.9.59 1.41.59.51 0 1.02-.2 1.41-.59l7.78-7.78 2.81-2.81c.8-.78.8-2.07 0-2.86zM5.41 20L4 18.59l7.72-7.72 1.47 1.35L5.41 20z\"/>\n",
              "  </svg>\n",
              "      </button>\n",
              "      \n",
              "  <style>\n",
              "    .colab-df-container {\n",
              "      display:flex;\n",
              "      flex-wrap:wrap;\n",
              "      gap: 12px;\n",
              "    }\n",
              "\n",
              "    .colab-df-convert {\n",
              "      background-color: #E8F0FE;\n",
              "      border: none;\n",
              "      border-radius: 50%;\n",
              "      cursor: pointer;\n",
              "      display: none;\n",
              "      fill: #1967D2;\n",
              "      height: 32px;\n",
              "      padding: 0 0 0 0;\n",
              "      width: 32px;\n",
              "    }\n",
              "\n",
              "    .colab-df-convert:hover {\n",
              "      background-color: #E2EBFA;\n",
              "      box-shadow: 0px 1px 2px rgba(60, 64, 67, 0.3), 0px 1px 3px 1px rgba(60, 64, 67, 0.15);\n",
              "      fill: #174EA6;\n",
              "    }\n",
              "\n",
              "    [theme=dark] .colab-df-convert {\n",
              "      background-color: #3B4455;\n",
              "      fill: #D2E3FC;\n",
              "    }\n",
              "\n",
              "    [theme=dark] .colab-df-convert:hover {\n",
              "      background-color: #434B5C;\n",
              "      box-shadow: 0px 1px 3px 1px rgba(0, 0, 0, 0.15);\n",
              "      filter: drop-shadow(0px 1px 2px rgba(0, 0, 0, 0.3));\n",
              "      fill: #FFFFFF;\n",
              "    }\n",
              "  </style>\n",
              "\n",
              "      <script>\n",
              "        const buttonEl =\n",
              "          document.querySelector('#df-071e51e5-1a0a-4df4-9b37-93b718afc660 button.colab-df-convert');\n",
              "        buttonEl.style.display =\n",
              "          google.colab.kernel.accessAllowed ? 'block' : 'none';\n",
              "\n",
              "        async function convertToInteractive(key) {\n",
              "          const element = document.querySelector('#df-071e51e5-1a0a-4df4-9b37-93b718afc660');\n",
              "          const dataTable =\n",
              "            await google.colab.kernel.invokeFunction('convertToInteractive',\n",
              "                                                     [key], {});\n",
              "          if (!dataTable) return;\n",
              "\n",
              "          const docLinkHtml = 'Like what you see? Visit the ' +\n",
              "            '<a target=\"_blank\" href=https://colab.research.google.com/notebooks/data_table.ipynb>data table notebook</a>'\n",
              "            + ' to learn more about interactive tables.';\n",
              "          element.innerHTML = '';\n",
              "          dataTable['output_type'] = 'display_data';\n",
              "          await google.colab.output.renderOutput(dataTable, element);\n",
              "          const docLink = document.createElement('div');\n",
              "          docLink.innerHTML = docLinkHtml;\n",
              "          element.appendChild(docLink);\n",
              "        }\n",
              "      </script>\n",
              "    </div>\n",
              "  </div>\n",
              "  "
            ],
            "text/plain": [
              "   cough  fever  sore_throat  shortness_of_breath  head_ache corona_result  \\\n",
              "0      0      0            0                    0          0      negative   \n",
              "1      0      1            0                    0          0      negative   \n",
              "2      0      0            0                    0          0      negative   \n",
              "3      0      0            0                    0          0      negative   \n",
              "4      0      1            0                    0          0      negative   \n",
              "\n",
              "  age_60_and_above  gender  \n",
              "0               No    male  \n",
              "1               No    male  \n",
              "2              Yes  female  \n",
              "3               No    male  \n",
              "4               No    male  "
            ]
          },
          "execution_count": 6,
          "metadata": {},
          "output_type": "execute_result"
        }
      ],
      "source": [
        "data_set=data_set[data_set.columns[cols]]\n",
        "data_set.head()\n"
      ]
    },
    {
      "cell_type": "code",
      "execution_count": 7,
      "metadata": {
        "colab": {
          "base_uri": "https://localhost:8080/"
        },
        "id": "KClCRESyGHJ4",
        "outputId": "1deeafd9-97a5-4b31-9fa2-82195a45930c"
      },
      "outputs": [
        {
          "data": {
            "text/plain": [
              "2742596"
            ]
          },
          "execution_count": 7,
          "metadata": {},
          "output_type": "execute_result"
        }
      ],
      "source": [
        "len(data_set)"
      ]
    },
    {
      "cell_type": "code",
      "execution_count": 8,
      "metadata": {
        "id": "TSzP-pXqHpGe"
      },
      "outputs": [],
      "source": [
        "def determine_result(res):\n",
        "  return 1 if res==\"positive\" else 0\n",
        "def determine_age(res):\n",
        "  return 1 if res==\"Yes\" else 0\n",
        "def determine_gender(res):\n",
        "  return 1 if res==\"male\" else 0\n",
        "\n",
        "data=[]\n",
        "for i in range(1000):\n",
        "  curr=[]\n",
        "  s=data_set.iloc[i].copy()\n",
        "  if (s[\"corona_result\"] in [\"positive\",\"negative\"]) and (s[\"age_60_and_above\"] in [\"Yes\",\"No\"]) and (s[\"gender\"] in [\"male\",\"female\"]):\n",
        "    s[\"corona_result\"]=determine_result(s[\"corona_result\"])\n",
        "    s[\"age_60_and_above\"]=determine_age(s[\"age_60_and_above\"])\n",
        "    s[\"gender\"]=determine_gender(s[\"gender\"])\n",
        "    for j in s:\n",
        "      curr.append(j)\n",
        "  data.append(curr)"
      ]
    },
    {
      "cell_type": "code",
      "execution_count": 9,
      "metadata": {
        "colab": {
          "base_uri": "https://localhost:8080/"
        },
        "id": "n9EsnLzyPDTU",
        "outputId": "00671350-5bc4-4de1-ab37-d5ff01143318"
      },
      "outputs": [
        {
          "data": {
            "text/plain": [
              "1000"
            ]
          },
          "execution_count": 9,
          "metadata": {},
          "output_type": "execute_result"
        }
      ],
      "source": [
        "len(data)"
      ]
    },
    {
      "cell_type": "markdown",
      "metadata": {},
      "source": [
        "Mini project 2 To process the Data"
      ]
    },
    {
      "cell_type": "code",
      "execution_count": 10,
      "metadata": {
        "colab": {
          "base_uri": "https://localhost:8080/",
          "height": 424
        },
        "id": "8E2OSCrKPj0P",
        "outputId": "fd0f6b10-bb10-43c8-ec54-5503024410b7"
      },
      "outputs": [
        {
          "data": {
            "text/html": [
              "\n",
              "  <div id=\"df-b32278fc-4834-4192-b789-6f51c96b2ac8\">\n",
              "    <div class=\"colab-df-container\">\n",
              "      <div>\n",
              "<style scoped>\n",
              "    .dataframe tbody tr th:only-of-type {\n",
              "        vertical-align: middle;\n",
              "    }\n",
              "\n",
              "    .dataframe tbody tr th {\n",
              "        vertical-align: top;\n",
              "    }\n",
              "\n",
              "    .dataframe thead th {\n",
              "        text-align: right;\n",
              "    }\n",
              "</style>\n",
              "<table border=\"1\" class=\"dataframe\">\n",
              "  <thead>\n",
              "    <tr style=\"text-align: right;\">\n",
              "      <th></th>\n",
              "      <th>cough</th>\n",
              "      <th>fever</th>\n",
              "      <th>sore_throat</th>\n",
              "      <th>shortness_of_breath</th>\n",
              "      <th>head_ache</th>\n",
              "      <th>corona_result</th>\n",
              "      <th>age_60_and_above</th>\n",
              "      <th>gender</th>\n",
              "    </tr>\n",
              "  </thead>\n",
              "  <tbody>\n",
              "    <tr>\n",
              "      <th>0</th>\n",
              "      <td>0.0</td>\n",
              "      <td>0.0</td>\n",
              "      <td>0.0</td>\n",
              "      <td>0.0</td>\n",
              "      <td>0.0</td>\n",
              "      <td>0.0</td>\n",
              "      <td>0.0</td>\n",
              "      <td>1.0</td>\n",
              "    </tr>\n",
              "    <tr>\n",
              "      <th>1</th>\n",
              "      <td>0.0</td>\n",
              "      <td>1.0</td>\n",
              "      <td>0.0</td>\n",
              "      <td>0.0</td>\n",
              "      <td>0.0</td>\n",
              "      <td>0.0</td>\n",
              "      <td>0.0</td>\n",
              "      <td>1.0</td>\n",
              "    </tr>\n",
              "    <tr>\n",
              "      <th>2</th>\n",
              "      <td>0.0</td>\n",
              "      <td>0.0</td>\n",
              "      <td>0.0</td>\n",
              "      <td>0.0</td>\n",
              "      <td>0.0</td>\n",
              "      <td>0.0</td>\n",
              "      <td>1.0</td>\n",
              "      <td>0.0</td>\n",
              "    </tr>\n",
              "    <tr>\n",
              "      <th>3</th>\n",
              "      <td>0.0</td>\n",
              "      <td>0.0</td>\n",
              "      <td>0.0</td>\n",
              "      <td>0.0</td>\n",
              "      <td>0.0</td>\n",
              "      <td>0.0</td>\n",
              "      <td>0.0</td>\n",
              "      <td>1.0</td>\n",
              "    </tr>\n",
              "    <tr>\n",
              "      <th>4</th>\n",
              "      <td>0.0</td>\n",
              "      <td>1.0</td>\n",
              "      <td>0.0</td>\n",
              "      <td>0.0</td>\n",
              "      <td>0.0</td>\n",
              "      <td>0.0</td>\n",
              "      <td>0.0</td>\n",
              "      <td>1.0</td>\n",
              "    </tr>\n",
              "    <tr>\n",
              "      <th>...</th>\n",
              "      <td>...</td>\n",
              "      <td>...</td>\n",
              "      <td>...</td>\n",
              "      <td>...</td>\n",
              "      <td>...</td>\n",
              "      <td>...</td>\n",
              "      <td>...</td>\n",
              "      <td>...</td>\n",
              "    </tr>\n",
              "    <tr>\n",
              "      <th>995</th>\n",
              "      <td>0.0</td>\n",
              "      <td>0.0</td>\n",
              "      <td>0.0</td>\n",
              "      <td>0.0</td>\n",
              "      <td>0.0</td>\n",
              "      <td>0.0</td>\n",
              "      <td>0.0</td>\n",
              "      <td>0.0</td>\n",
              "    </tr>\n",
              "    <tr>\n",
              "      <th>996</th>\n",
              "      <td>0.0</td>\n",
              "      <td>0.0</td>\n",
              "      <td>0.0</td>\n",
              "      <td>0.0</td>\n",
              "      <td>0.0</td>\n",
              "      <td>0.0</td>\n",
              "      <td>0.0</td>\n",
              "      <td>0.0</td>\n",
              "    </tr>\n",
              "    <tr>\n",
              "      <th>997</th>\n",
              "      <td>0.0</td>\n",
              "      <td>0.0</td>\n",
              "      <td>0.0</td>\n",
              "      <td>0.0</td>\n",
              "      <td>0.0</td>\n",
              "      <td>0.0</td>\n",
              "      <td>0.0</td>\n",
              "      <td>0.0</td>\n",
              "    </tr>\n",
              "    <tr>\n",
              "      <th>998</th>\n",
              "      <td>0.0</td>\n",
              "      <td>0.0</td>\n",
              "      <td>0.0</td>\n",
              "      <td>0.0</td>\n",
              "      <td>0.0</td>\n",
              "      <td>0.0</td>\n",
              "      <td>0.0</td>\n",
              "      <td>1.0</td>\n",
              "    </tr>\n",
              "    <tr>\n",
              "      <th>999</th>\n",
              "      <td>0.0</td>\n",
              "      <td>0.0</td>\n",
              "      <td>0.0</td>\n",
              "      <td>0.0</td>\n",
              "      <td>0.0</td>\n",
              "      <td>0.0</td>\n",
              "      <td>0.0</td>\n",
              "      <td>0.0</td>\n",
              "    </tr>\n",
              "  </tbody>\n",
              "</table>\n",
              "<p>1000 rows × 8 columns</p>\n",
              "</div>\n",
              "      <button class=\"colab-df-convert\" onclick=\"convertToInteractive('df-b32278fc-4834-4192-b789-6f51c96b2ac8')\"\n",
              "              title=\"Convert this dataframe to an interactive table.\"\n",
              "              style=\"display:none;\">\n",
              "        \n",
              "  <svg xmlns=\"http://www.w3.org/2000/svg\" height=\"24px\"viewBox=\"0 0 24 24\"\n",
              "       width=\"24px\">\n",
              "    <path d=\"M0 0h24v24H0V0z\" fill=\"none\"/>\n",
              "    <path d=\"M18.56 5.44l.94 2.06.94-2.06 2.06-.94-2.06-.94-.94-2.06-.94 2.06-2.06.94zm-11 1L8.5 8.5l.94-2.06 2.06-.94-2.06-.94L8.5 2.5l-.94 2.06-2.06.94zm10 10l.94 2.06.94-2.06 2.06-.94-2.06-.94-.94-2.06-.94 2.06-2.06.94z\"/><path d=\"M17.41 7.96l-1.37-1.37c-.4-.4-.92-.59-1.43-.59-.52 0-1.04.2-1.43.59L10.3 9.45l-7.72 7.72c-.78.78-.78 2.05 0 2.83L4 21.41c.39.39.9.59 1.41.59.51 0 1.02-.2 1.41-.59l7.78-7.78 2.81-2.81c.8-.78.8-2.07 0-2.86zM5.41 20L4 18.59l7.72-7.72 1.47 1.35L5.41 20z\"/>\n",
              "  </svg>\n",
              "      </button>\n",
              "      \n",
              "  <style>\n",
              "    .colab-df-container {\n",
              "      display:flex;\n",
              "      flex-wrap:wrap;\n",
              "      gap: 12px;\n",
              "    }\n",
              "\n",
              "    .colab-df-convert {\n",
              "      background-color: #E8F0FE;\n",
              "      border: none;\n",
              "      border-radius: 50%;\n",
              "      cursor: pointer;\n",
              "      display: none;\n",
              "      fill: #1967D2;\n",
              "      height: 32px;\n",
              "      padding: 0 0 0 0;\n",
              "      width: 32px;\n",
              "    }\n",
              "\n",
              "    .colab-df-convert:hover {\n",
              "      background-color: #E2EBFA;\n",
              "      box-shadow: 0px 1px 2px rgba(60, 64, 67, 0.3), 0px 1px 3px 1px rgba(60, 64, 67, 0.15);\n",
              "      fill: #174EA6;\n",
              "    }\n",
              "\n",
              "    [theme=dark] .colab-df-convert {\n",
              "      background-color: #3B4455;\n",
              "      fill: #D2E3FC;\n",
              "    }\n",
              "\n",
              "    [theme=dark] .colab-df-convert:hover {\n",
              "      background-color: #434B5C;\n",
              "      box-shadow: 0px 1px 3px 1px rgba(0, 0, 0, 0.15);\n",
              "      filter: drop-shadow(0px 1px 2px rgba(0, 0, 0, 0.3));\n",
              "      fill: #FFFFFF;\n",
              "    }\n",
              "  </style>\n",
              "\n",
              "      <script>\n",
              "        const buttonEl =\n",
              "          document.querySelector('#df-b32278fc-4834-4192-b789-6f51c96b2ac8 button.colab-df-convert');\n",
              "        buttonEl.style.display =\n",
              "          google.colab.kernel.accessAllowed ? 'block' : 'none';\n",
              "\n",
              "        async function convertToInteractive(key) {\n",
              "          const element = document.querySelector('#df-b32278fc-4834-4192-b789-6f51c96b2ac8');\n",
              "          const dataTable =\n",
              "            await google.colab.kernel.invokeFunction('convertToInteractive',\n",
              "                                                     [key], {});\n",
              "          if (!dataTable) return;\n",
              "\n",
              "          const docLinkHtml = 'Like what you see? Visit the ' +\n",
              "            '<a target=\"_blank\" href=https://colab.research.google.com/notebooks/data_table.ipynb>data table notebook</a>'\n",
              "            + ' to learn more about interactive tables.';\n",
              "          element.innerHTML = '';\n",
              "          dataTable['output_type'] = 'display_data';\n",
              "          await google.colab.output.renderOutput(dataTable, element);\n",
              "          const docLink = document.createElement('div');\n",
              "          docLink.innerHTML = docLinkHtml;\n",
              "          element.appendChild(docLink);\n",
              "        }\n",
              "      </script>\n",
              "    </div>\n",
              "  </div>\n",
              "  "
            ],
            "text/plain": [
              "     cough  fever  sore_throat  shortness_of_breath  head_ache  corona_result  \\\n",
              "0      0.0    0.0          0.0                  0.0        0.0            0.0   \n",
              "1      0.0    1.0          0.0                  0.0        0.0            0.0   \n",
              "2      0.0    0.0          0.0                  0.0        0.0            0.0   \n",
              "3      0.0    0.0          0.0                  0.0        0.0            0.0   \n",
              "4      0.0    1.0          0.0                  0.0        0.0            0.0   \n",
              "..     ...    ...          ...                  ...        ...            ...   \n",
              "995    0.0    0.0          0.0                  0.0        0.0            0.0   \n",
              "996    0.0    0.0          0.0                  0.0        0.0            0.0   \n",
              "997    0.0    0.0          0.0                  0.0        0.0            0.0   \n",
              "998    0.0    0.0          0.0                  0.0        0.0            0.0   \n",
              "999    0.0    0.0          0.0                  0.0        0.0            0.0   \n",
              "\n",
              "     age_60_and_above  gender  \n",
              "0                 0.0     1.0  \n",
              "1                 0.0     1.0  \n",
              "2                 1.0     0.0  \n",
              "3                 0.0     1.0  \n",
              "4                 0.0     1.0  \n",
              "..                ...     ...  \n",
              "995               0.0     0.0  \n",
              "996               0.0     0.0  \n",
              "997               0.0     0.0  \n",
              "998               0.0     1.0  \n",
              "999               0.0     0.0  \n",
              "\n",
              "[1000 rows x 8 columns]"
            ]
          },
          "execution_count": 10,
          "metadata": {},
          "output_type": "execute_result"
        }
      ],
      "source": [
        "training_data_set=pd.DataFrame(data,columns=[\"cough\",\"fever\",\"sore_throat\",\"shortness_of_breath\",\"head_ache\",\"corona_result\",\"age_60_and_above\",\"gender\"])\n",
        "training_data_set"
      ]
    },
    {
      "cell_type": "code",
      "execution_count": 11,
      "metadata": {
        "id": "sDbilAW4YD3s"
      },
      "outputs": [],
      "source": [
        "rows_with_NaN=training_data_set.isnull().any(axis=1)\n",
        "rows=training_data_set[rows_with_NaN]\n",
        "r=list(rows.index)\n",
        "\n",
        "if r!=[]:\n",
        "  training_data_set.drop(training_data_set.index[r],inplace=True)"
      ]
    },
    {
      "cell_type": "code",
      "execution_count": 12,
      "metadata": {
        "colab": {
          "base_uri": "https://localhost:8080/",
          "height": 424
        },
        "id": "9Ggw_3Kw5YD3",
        "outputId": "21a4279d-45c1-4a3f-e913-6807c474960b"
      },
      "outputs": [
        {
          "data": {
            "text/html": [
              "\n",
              "  <div id=\"df-84d415dd-b6a9-456f-b710-a9ca87db725d\">\n",
              "    <div class=\"colab-df-container\">\n",
              "      <div>\n",
              "<style scoped>\n",
              "    .dataframe tbody tr th:only-of-type {\n",
              "        vertical-align: middle;\n",
              "    }\n",
              "\n",
              "    .dataframe tbody tr th {\n",
              "        vertical-align: top;\n",
              "    }\n",
              "\n",
              "    .dataframe thead th {\n",
              "        text-align: right;\n",
              "    }\n",
              "</style>\n",
              "<table border=\"1\" class=\"dataframe\">\n",
              "  <thead>\n",
              "    <tr style=\"text-align: right;\">\n",
              "      <th></th>\n",
              "      <th>cough</th>\n",
              "      <th>fever</th>\n",
              "      <th>sore_throat</th>\n",
              "      <th>shortness_of_breath</th>\n",
              "      <th>head_ache</th>\n",
              "      <th>age_60_and_above</th>\n",
              "      <th>gender</th>\n",
              "    </tr>\n",
              "  </thead>\n",
              "  <tbody>\n",
              "    <tr>\n",
              "      <th>0</th>\n",
              "      <td>0.0</td>\n",
              "      <td>0.0</td>\n",
              "      <td>0.0</td>\n",
              "      <td>0.0</td>\n",
              "      <td>0.0</td>\n",
              "      <td>0.0</td>\n",
              "      <td>1.0</td>\n",
              "    </tr>\n",
              "    <tr>\n",
              "      <th>1</th>\n",
              "      <td>0.0</td>\n",
              "      <td>1.0</td>\n",
              "      <td>0.0</td>\n",
              "      <td>0.0</td>\n",
              "      <td>0.0</td>\n",
              "      <td>0.0</td>\n",
              "      <td>1.0</td>\n",
              "    </tr>\n",
              "    <tr>\n",
              "      <th>2</th>\n",
              "      <td>0.0</td>\n",
              "      <td>0.0</td>\n",
              "      <td>0.0</td>\n",
              "      <td>0.0</td>\n",
              "      <td>0.0</td>\n",
              "      <td>1.0</td>\n",
              "      <td>0.0</td>\n",
              "    </tr>\n",
              "    <tr>\n",
              "      <th>3</th>\n",
              "      <td>0.0</td>\n",
              "      <td>0.0</td>\n",
              "      <td>0.0</td>\n",
              "      <td>0.0</td>\n",
              "      <td>0.0</td>\n",
              "      <td>0.0</td>\n",
              "      <td>1.0</td>\n",
              "    </tr>\n",
              "    <tr>\n",
              "      <th>4</th>\n",
              "      <td>0.0</td>\n",
              "      <td>1.0</td>\n",
              "      <td>0.0</td>\n",
              "      <td>0.0</td>\n",
              "      <td>0.0</td>\n",
              "      <td>0.0</td>\n",
              "      <td>1.0</td>\n",
              "    </tr>\n",
              "    <tr>\n",
              "      <th>...</th>\n",
              "      <td>...</td>\n",
              "      <td>...</td>\n",
              "      <td>...</td>\n",
              "      <td>...</td>\n",
              "      <td>...</td>\n",
              "      <td>...</td>\n",
              "      <td>...</td>\n",
              "    </tr>\n",
              "    <tr>\n",
              "      <th>995</th>\n",
              "      <td>0.0</td>\n",
              "      <td>0.0</td>\n",
              "      <td>0.0</td>\n",
              "      <td>0.0</td>\n",
              "      <td>0.0</td>\n",
              "      <td>0.0</td>\n",
              "      <td>0.0</td>\n",
              "    </tr>\n",
              "    <tr>\n",
              "      <th>996</th>\n",
              "      <td>0.0</td>\n",
              "      <td>0.0</td>\n",
              "      <td>0.0</td>\n",
              "      <td>0.0</td>\n",
              "      <td>0.0</td>\n",
              "      <td>0.0</td>\n",
              "      <td>0.0</td>\n",
              "    </tr>\n",
              "    <tr>\n",
              "      <th>997</th>\n",
              "      <td>0.0</td>\n",
              "      <td>0.0</td>\n",
              "      <td>0.0</td>\n",
              "      <td>0.0</td>\n",
              "      <td>0.0</td>\n",
              "      <td>0.0</td>\n",
              "      <td>0.0</td>\n",
              "    </tr>\n",
              "    <tr>\n",
              "      <th>998</th>\n",
              "      <td>0.0</td>\n",
              "      <td>0.0</td>\n",
              "      <td>0.0</td>\n",
              "      <td>0.0</td>\n",
              "      <td>0.0</td>\n",
              "      <td>0.0</td>\n",
              "      <td>1.0</td>\n",
              "    </tr>\n",
              "    <tr>\n",
              "      <th>999</th>\n",
              "      <td>0.0</td>\n",
              "      <td>0.0</td>\n",
              "      <td>0.0</td>\n",
              "      <td>0.0</td>\n",
              "      <td>0.0</td>\n",
              "      <td>0.0</td>\n",
              "      <td>0.0</td>\n",
              "    </tr>\n",
              "  </tbody>\n",
              "</table>\n",
              "<p>997 rows × 7 columns</p>\n",
              "</div>\n",
              "      <button class=\"colab-df-convert\" onclick=\"convertToInteractive('df-84d415dd-b6a9-456f-b710-a9ca87db725d')\"\n",
              "              title=\"Convert this dataframe to an interactive table.\"\n",
              "              style=\"display:none;\">\n",
              "        \n",
              "  <svg xmlns=\"http://www.w3.org/2000/svg\" height=\"24px\"viewBox=\"0 0 24 24\"\n",
              "       width=\"24px\">\n",
              "    <path d=\"M0 0h24v24H0V0z\" fill=\"none\"/>\n",
              "    <path d=\"M18.56 5.44l.94 2.06.94-2.06 2.06-.94-2.06-.94-.94-2.06-.94 2.06-2.06.94zm-11 1L8.5 8.5l.94-2.06 2.06-.94-2.06-.94L8.5 2.5l-.94 2.06-2.06.94zm10 10l.94 2.06.94-2.06 2.06-.94-2.06-.94-.94-2.06-.94 2.06-2.06.94z\"/><path d=\"M17.41 7.96l-1.37-1.37c-.4-.4-.92-.59-1.43-.59-.52 0-1.04.2-1.43.59L10.3 9.45l-7.72 7.72c-.78.78-.78 2.05 0 2.83L4 21.41c.39.39.9.59 1.41.59.51 0 1.02-.2 1.41-.59l7.78-7.78 2.81-2.81c.8-.78.8-2.07 0-2.86zM5.41 20L4 18.59l7.72-7.72 1.47 1.35L5.41 20z\"/>\n",
              "  </svg>\n",
              "      </button>\n",
              "      \n",
              "  <style>\n",
              "    .colab-df-container {\n",
              "      display:flex;\n",
              "      flex-wrap:wrap;\n",
              "      gap: 12px;\n",
              "    }\n",
              "\n",
              "    .colab-df-convert {\n",
              "      background-color: #E8F0FE;\n",
              "      border: none;\n",
              "      border-radius: 50%;\n",
              "      cursor: pointer;\n",
              "      display: none;\n",
              "      fill: #1967D2;\n",
              "      height: 32px;\n",
              "      padding: 0 0 0 0;\n",
              "      width: 32px;\n",
              "    }\n",
              "\n",
              "    .colab-df-convert:hover {\n",
              "      background-color: #E2EBFA;\n",
              "      box-shadow: 0px 1px 2px rgba(60, 64, 67, 0.3), 0px 1px 3px 1px rgba(60, 64, 67, 0.15);\n",
              "      fill: #174EA6;\n",
              "    }\n",
              "\n",
              "    [theme=dark] .colab-df-convert {\n",
              "      background-color: #3B4455;\n",
              "      fill: #D2E3FC;\n",
              "    }\n",
              "\n",
              "    [theme=dark] .colab-df-convert:hover {\n",
              "      background-color: #434B5C;\n",
              "      box-shadow: 0px 1px 3px 1px rgba(0, 0, 0, 0.15);\n",
              "      filter: drop-shadow(0px 1px 2px rgba(0, 0, 0, 0.3));\n",
              "      fill: #FFFFFF;\n",
              "    }\n",
              "  </style>\n",
              "\n",
              "      <script>\n",
              "        const buttonEl =\n",
              "          document.querySelector('#df-84d415dd-b6a9-456f-b710-a9ca87db725d button.colab-df-convert');\n",
              "        buttonEl.style.display =\n",
              "          google.colab.kernel.accessAllowed ? 'block' : 'none';\n",
              "\n",
              "        async function convertToInteractive(key) {\n",
              "          const element = document.querySelector('#df-84d415dd-b6a9-456f-b710-a9ca87db725d');\n",
              "          const dataTable =\n",
              "            await google.colab.kernel.invokeFunction('convertToInteractive',\n",
              "                                                     [key], {});\n",
              "          if (!dataTable) return;\n",
              "\n",
              "          const docLinkHtml = 'Like what you see? Visit the ' +\n",
              "            '<a target=\"_blank\" href=https://colab.research.google.com/notebooks/data_table.ipynb>data table notebook</a>'\n",
              "            + ' to learn more about interactive tables.';\n",
              "          element.innerHTML = '';\n",
              "          dataTable['output_type'] = 'display_data';\n",
              "          await google.colab.output.renderOutput(dataTable, element);\n",
              "          const docLink = document.createElement('div');\n",
              "          docLink.innerHTML = docLinkHtml;\n",
              "          element.appendChild(docLink);\n",
              "        }\n",
              "      </script>\n",
              "    </div>\n",
              "  </div>\n",
              "  "
            ],
            "text/plain": [
              "     cough  fever  sore_throat  shortness_of_breath  head_ache  \\\n",
              "0      0.0    0.0          0.0                  0.0        0.0   \n",
              "1      0.0    1.0          0.0                  0.0        0.0   \n",
              "2      0.0    0.0          0.0                  0.0        0.0   \n",
              "3      0.0    0.0          0.0                  0.0        0.0   \n",
              "4      0.0    1.0          0.0                  0.0        0.0   \n",
              "..     ...    ...          ...                  ...        ...   \n",
              "995    0.0    0.0          0.0                  0.0        0.0   \n",
              "996    0.0    0.0          0.0                  0.0        0.0   \n",
              "997    0.0    0.0          0.0                  0.0        0.0   \n",
              "998    0.0    0.0          0.0                  0.0        0.0   \n",
              "999    0.0    0.0          0.0                  0.0        0.0   \n",
              "\n",
              "     age_60_and_above  gender  \n",
              "0                 0.0     1.0  \n",
              "1                 0.0     1.0  \n",
              "2                 1.0     0.0  \n",
              "3                 0.0     1.0  \n",
              "4                 0.0     1.0  \n",
              "..                ...     ...  \n",
              "995               0.0     0.0  \n",
              "996               0.0     0.0  \n",
              "997               0.0     0.0  \n",
              "998               0.0     1.0  \n",
              "999               0.0     0.0  \n",
              "\n",
              "[997 rows x 7 columns]"
            ]
          },
          "execution_count": 12,
          "metadata": {},
          "output_type": "execute_result"
        }
      ],
      "source": [
        "y_data=training_data_set[\"corona_result\"]\n",
        "x_data=training_data_set.drop(\"corona_result\",axis=1)\n",
        "x_data"
      ]
    },
    {
      "cell_type": "code",
      "execution_count": 13,
      "metadata": {
        "id": "3-eLS-6MzYHZ"
      },
      "outputs": [],
      "source": [
        "from sklearn.preprocessing import StandardScaler\n",
        "from sklearn.decomposition import PCA\n",
        "norm_data=StandardScaler().fit_transform(x_data)\n",
        "\n",
        "norm_x_dataframe=pd.DataFrame(norm_data,columns=[\"cough\",\"fever\",\"sore_throat\",\"shortness_of_breath\",\"head_ache\",\"age_60_and_above\",\"gender\"])"
      ]
    },
    {
      "cell_type": "markdown",
      "metadata": {},
      "source": [
        "Mini project 3 Apply the PCA analysis and then finally train the model"
      ]
    },
    {
      "cell_type": "code",
      "execution_count": 14,
      "metadata": {
        "colab": {
          "base_uri": "https://localhost:8080/",
          "height": 424
        },
        "id": "6yRf0So-yJrK",
        "outputId": "f44ae663-074c-4148-ccab-39a0404cce4a"
      },
      "outputs": [
        {
          "data": {
            "text/html": [
              "\n",
              "  <div id=\"df-70b2a1a8-2c41-4e0a-8ffb-60171cb1346c\">\n",
              "    <div class=\"colab-df-container\">\n",
              "      <div>\n",
              "<style scoped>\n",
              "    .dataframe tbody tr th:only-of-type {\n",
              "        vertical-align: middle;\n",
              "    }\n",
              "\n",
              "    .dataframe tbody tr th {\n",
              "        vertical-align: top;\n",
              "    }\n",
              "\n",
              "    .dataframe thead th {\n",
              "        text-align: right;\n",
              "    }\n",
              "</style>\n",
              "<table border=\"1\" class=\"dataframe\">\n",
              "  <thead>\n",
              "    <tr style=\"text-align: right;\">\n",
              "      <th></th>\n",
              "      <th>PCA-1</th>\n",
              "    </tr>\n",
              "  </thead>\n",
              "  <tbody>\n",
              "    <tr>\n",
              "      <th>0</th>\n",
              "      <td>0.527130</td>\n",
              "    </tr>\n",
              "    <tr>\n",
              "      <th>1</th>\n",
              "      <td>0.536089</td>\n",
              "    </tr>\n",
              "    <tr>\n",
              "      <th>2</th>\n",
              "      <td>-0.400462</td>\n",
              "    </tr>\n",
              "    <tr>\n",
              "      <th>3</th>\n",
              "      <td>0.527130</td>\n",
              "    </tr>\n",
              "    <tr>\n",
              "      <th>4</th>\n",
              "      <td>0.536089</td>\n",
              "    </tr>\n",
              "    <tr>\n",
              "      <th>...</th>\n",
              "      <td>...</td>\n",
              "    </tr>\n",
              "    <tr>\n",
              "      <th>992</th>\n",
              "      <td>-0.470355</td>\n",
              "    </tr>\n",
              "    <tr>\n",
              "      <th>993</th>\n",
              "      <td>-0.470355</td>\n",
              "    </tr>\n",
              "    <tr>\n",
              "      <th>994</th>\n",
              "      <td>-0.470355</td>\n",
              "    </tr>\n",
              "    <tr>\n",
              "      <th>995</th>\n",
              "      <td>0.527130</td>\n",
              "    </tr>\n",
              "    <tr>\n",
              "      <th>996</th>\n",
              "      <td>-0.470355</td>\n",
              "    </tr>\n",
              "  </tbody>\n",
              "</table>\n",
              "<p>997 rows × 1 columns</p>\n",
              "</div>\n",
              "      <button class=\"colab-df-convert\" onclick=\"convertToInteractive('df-70b2a1a8-2c41-4e0a-8ffb-60171cb1346c')\"\n",
              "              title=\"Convert this dataframe to an interactive table.\"\n",
              "              style=\"display:none;\">\n",
              "        \n",
              "  <svg xmlns=\"http://www.w3.org/2000/svg\" height=\"24px\"viewBox=\"0 0 24 24\"\n",
              "       width=\"24px\">\n",
              "    <path d=\"M0 0h24v24H0V0z\" fill=\"none\"/>\n",
              "    <path d=\"M18.56 5.44l.94 2.06.94-2.06 2.06-.94-2.06-.94-.94-2.06-.94 2.06-2.06.94zm-11 1L8.5 8.5l.94-2.06 2.06-.94-2.06-.94L8.5 2.5l-.94 2.06-2.06.94zm10 10l.94 2.06.94-2.06 2.06-.94-2.06-.94-.94-2.06-.94 2.06-2.06.94z\"/><path d=\"M17.41 7.96l-1.37-1.37c-.4-.4-.92-.59-1.43-.59-.52 0-1.04.2-1.43.59L10.3 9.45l-7.72 7.72c-.78.78-.78 2.05 0 2.83L4 21.41c.39.39.9.59 1.41.59.51 0 1.02-.2 1.41-.59l7.78-7.78 2.81-2.81c.8-.78.8-2.07 0-2.86zM5.41 20L4 18.59l7.72-7.72 1.47 1.35L5.41 20z\"/>\n",
              "  </svg>\n",
              "      </button>\n",
              "      \n",
              "  <style>\n",
              "    .colab-df-container {\n",
              "      display:flex;\n",
              "      flex-wrap:wrap;\n",
              "      gap: 12px;\n",
              "    }\n",
              "\n",
              "    .colab-df-convert {\n",
              "      background-color: #E8F0FE;\n",
              "      border: none;\n",
              "      border-radius: 50%;\n",
              "      cursor: pointer;\n",
              "      display: none;\n",
              "      fill: #1967D2;\n",
              "      height: 32px;\n",
              "      padding: 0 0 0 0;\n",
              "      width: 32px;\n",
              "    }\n",
              "\n",
              "    .colab-df-convert:hover {\n",
              "      background-color: #E2EBFA;\n",
              "      box-shadow: 0px 1px 2px rgba(60, 64, 67, 0.3), 0px 1px 3px 1px rgba(60, 64, 67, 0.15);\n",
              "      fill: #174EA6;\n",
              "    }\n",
              "\n",
              "    [theme=dark] .colab-df-convert {\n",
              "      background-color: #3B4455;\n",
              "      fill: #D2E3FC;\n",
              "    }\n",
              "\n",
              "    [theme=dark] .colab-df-convert:hover {\n",
              "      background-color: #434B5C;\n",
              "      box-shadow: 0px 1px 3px 1px rgba(0, 0, 0, 0.15);\n",
              "      filter: drop-shadow(0px 1px 2px rgba(0, 0, 0, 0.3));\n",
              "      fill: #FFFFFF;\n",
              "    }\n",
              "  </style>\n",
              "\n",
              "      <script>\n",
              "        const buttonEl =\n",
              "          document.querySelector('#df-70b2a1a8-2c41-4e0a-8ffb-60171cb1346c button.colab-df-convert');\n",
              "        buttonEl.style.display =\n",
              "          google.colab.kernel.accessAllowed ? 'block' : 'none';\n",
              "\n",
              "        async function convertToInteractive(key) {\n",
              "          const element = document.querySelector('#df-70b2a1a8-2c41-4e0a-8ffb-60171cb1346c');\n",
              "          const dataTable =\n",
              "            await google.colab.kernel.invokeFunction('convertToInteractive',\n",
              "                                                     [key], {});\n",
              "          if (!dataTable) return;\n",
              "\n",
              "          const docLinkHtml = 'Like what you see? Visit the ' +\n",
              "            '<a target=\"_blank\" href=https://colab.research.google.com/notebooks/data_table.ipynb>data table notebook</a>'\n",
              "            + ' to learn more about interactive tables.';\n",
              "          element.innerHTML = '';\n",
              "          dataTable['output_type'] = 'display_data';\n",
              "          await google.colab.output.renderOutput(dataTable, element);\n",
              "          const docLink = document.createElement('div');\n",
              "          docLink.innerHTML = docLinkHtml;\n",
              "          element.appendChild(docLink);\n",
              "        }\n",
              "      </script>\n",
              "    </div>\n",
              "  </div>\n",
              "  "
            ],
            "text/plain": [
              "        PCA-1\n",
              "0    0.527130\n",
              "1    0.536089\n",
              "2   -0.400462\n",
              "3    0.527130\n",
              "4    0.536089\n",
              "..        ...\n",
              "992 -0.470355\n",
              "993 -0.470355\n",
              "994 -0.470355\n",
              "995  0.527130\n",
              "996 -0.470355\n",
              "\n",
              "[997 rows x 1 columns]"
            ]
          },
          "execution_count": 14,
          "metadata": {},
          "output_type": "execute_result"
        }
      ],
      "source": [
        "pca=PCA(n_components=1)\n",
        "pca_data=pca.fit_transform(x_data)\n",
        "pca_dataset=pd.DataFrame(pca_data,columns=[\"PCA-1\"])\n",
        "pca_dataset"
      ]
    },
    {
      "cell_type": "code",
      "execution_count": 15,
      "metadata": {
        "colab": {
          "base_uri": "https://localhost:8080/"
        },
        "id": "az0sxcL48yaR",
        "outputId": "ff42f99f-f69c-4215-8088-d629afd9dbfa"
      },
      "outputs": [
        {
          "data": {
            "text/plain": [
              "array([0.5763238])"
            ]
          },
          "execution_count": 15,
          "metadata": {},
          "output_type": "execute_result"
        }
      ],
      "source": [
        "pca.explained_variance_ratio_"
      ]
    },
    {
      "cell_type": "code",
      "execution_count": 16,
      "metadata": {
        "colab": {
          "base_uri": "https://localhost:8080/"
        },
        "id": "ywDokSph9KIx",
        "outputId": "38d5c308-fe20-46c6-e969-50a6bbf6093b"
      },
      "outputs": [
        {
          "name": "stdout",
          "output_type": "stream",
          "text": [
            "PCA(n_components=1)\n"
          ]
        }
      ],
      "source": [
        "print(pca)"
      ]
    },
    {
      "cell_type": "code",
      "execution_count": 17,
      "metadata": {
        "id": "ARZf1Z-8DdhV"
      },
      "outputs": [],
      "source": [
        "x_data=pca_dataset"
      ]
    },
    {
      "cell_type": "code",
      "execution_count": 18,
      "metadata": {
        "id": "FOa8Y3LmWVS2"
      },
      "outputs": [],
      "source": [
        "def convert_data_type_to_tensor(res):\n",
        "  return tf.convert_to_tensor(np.array(res,dtype=float))\n",
        "\n",
        "\n",
        "seed=42\n",
        "from sklearn.model_selection import train_test_split\n",
        "\n",
        "X_train,X_test,y_train,y_test=train_test_split(x_data,y_data,test_size=0.2,random_state=seed)"
      ]
    },
    {
      "cell_type": "code",
      "execution_count": 19,
      "metadata": {
        "id": "pu_TcbKLVPJ3"
      },
      "outputs": [],
      "source": [
        "def count_total(y):\n",
        "  c=[0,0]\n",
        "  for i in y:\n",
        "    if(i==0):\n",
        "      c[0]+=1\n",
        "    else:\n",
        "      c[1]+=1\n",
        "  return c\n"
      ]
    },
    {
      "cell_type": "code",
      "execution_count": 20,
      "metadata": {
        "colab": {
          "base_uri": "https://localhost:8080/",
          "height": 336
        },
        "id": "-oPC7DEOg55l",
        "outputId": "8ce40ce5-f7ad-4778-b069-cef9531282e3"
      },
      "outputs": [
        {
          "data": {
            "image/png": "[encoded data removed]",
            "text/plain": [
              "<Figure size 432x288 with 1 Axes>"
            ]
          },
          "metadata": {
            "needs_background": "light"
          },
          "output_type": "display_data"
        }
      ],
      "source": [
        "#calculating percentage of People Are positive and negative of Covid 19\n",
        "\n",
        "figure=plt.figure()\n",
        "ax=figure.add_axes([0,0,1,1])\n",
        "\n",
        "p_n=count_total(y_train)\n",
        "\n",
        "ax.bar([\"negative\",\"positive\"],p_n,0.2)\n",
        "plt.show();"
      ]
    },
    {
      "cell_type": "code",
      "execution_count": 21,
      "metadata": {
        "colab": {
          "base_uri": "https://localhost:8080/"
        },
        "id": "MCu8B2PsWPwF",
        "outputId": "98cdf6dd-3b88-4b78-ecec-d7e06dcae246"
      },
      "outputs": [
        {
          "data": {
            "text/plain": [
              "<tf.Tensor: shape=(200,), dtype=float64, numpy=\n",
              "array([0., 0., 0., 0., 0., 0., 0., 0., 0., 0., 0., 0., 0., 0., 0., 0., 0.,\n",
              "       0., 0., 0., 0., 0., 0., 0., 0., 0., 0., 0., 0., 0., 0., 0., 0., 0.,\n",
              "       0., 0., 0., 0., 0., 0., 0., 0., 0., 0., 0., 1., 0., 0., 0., 0., 0.,\n",
              "       0., 0., 0., 0., 0., 0., 0., 0., 0., 0., 0., 0., 0., 0., 0., 0., 0.,\n",
              "       0., 0., 0., 0., 0., 0., 0., 0., 0., 0., 0., 1., 0., 0., 0., 0., 1.,\n",
              "       0., 0., 0., 0., 0., 0., 0., 0., 0., 0., 0., 0., 0., 0., 0., 0., 0.,\n",
              "       0., 0., 0., 0., 0., 0., 0., 0., 0., 0., 0., 0., 0., 0., 0., 0., 0.,\n",
              "       0., 0., 0., 0., 0., 0., 0., 1., 0., 0., 0., 0., 0., 0., 0., 0., 0.,\n",
              "       0., 0., 0., 0., 0., 0., 0., 0., 0., 0., 0., 0., 0., 0., 0., 0., 0.,\n",
              "       0., 0., 0., 0., 0., 0., 0., 0., 0., 0., 0., 0., 0., 0., 0., 0., 0.,\n",
              "       0., 0., 1., 0., 0., 0., 0., 0., 0., 0., 0., 0., 0., 0., 0., 0., 0.,\n",
              "       0., 0., 0., 0., 0., 0., 0., 0., 0., 0., 0., 0., 0.])>"
            ]
          },
          "execution_count": 21,
          "metadata": {},
          "output_type": "execute_result"
        }
      ],
      "source": [
        "X_train=convert_data_type_to_tensor(X_train)\n",
        "X_test=convert_data_type_to_tensor(X_test)\n",
        "y_train=convert_data_type_to_tensor(y_train)\n",
        "y_test=convert_data_type_to_tensor(y_test)\n",
        "y_test"
      ]
    },
    {
      "cell_type": "code",
      "execution_count": 37,
      "metadata": {
        "colab": {
          "base_uri": "https://localhost:8080/"
        },
        "id": "b8hn0Eg2ZKBT",
        "outputId": "c8371aec-f352-488a-9e7a-b951a74e9ad2"
      },
      "outputs": [
        {
          "name": "stdout",
          "output_type": "stream",
          "text": [
            "Epoch 1/100\n",
            "25/25 [==============================] - 1s 16ms/step - loss: 0.3486 - accuracy: 0.9097 - val_loss: 0.1657 - val_accuracy: 0.9750\n",
            "Epoch 2/100\n",
            "25/25 [==============================] - 0s 5ms/step - loss: 0.1329 - accuracy: 0.9762 - val_loss: 0.1228 - val_accuracy: 0.9750\n",
            "Epoch 3/100\n",
            "25/25 [==============================] - 0s 4ms/step - loss: 0.1166 - accuracy: 0.9762 - val_loss: 0.1166 - val_accuracy: 0.9750\n",
            "Epoch 4/100\n",
            "25/25 [==============================] - 0s 4ms/step - loss: 0.1138 - accuracy: 0.9762 - val_loss: 0.1147 - val_accuracy: 0.9750\n",
            "Epoch 5/100\n",
            "25/25 [==============================] - 0s 5ms/step - loss: 0.1132 - accuracy: 0.9762 - val_loss: 0.1144 - val_accuracy: 0.9750\n",
            "Epoch 6/100\n",
            "25/25 [==============================] - 0s 4ms/step - loss: 0.1128 - accuracy: 0.9762 - val_loss: 0.1155 - val_accuracy: 0.9750\n",
            "Epoch 7/100\n",
            "25/25 [==============================] - 0s 4ms/step - loss: 0.1132 - accuracy: 0.9762 - val_loss: 0.1157 - val_accuracy: 0.9750\n",
            "Epoch 8/100\n",
            "25/25 [==============================] - 0s 4ms/step - loss: 0.1127 - accuracy: 0.9762 - val_loss: 0.1155 - val_accuracy: 0.9750\n",
            "Epoch 9/100\n",
            "25/25 [==============================] - 0s 6ms/step - loss: 0.1130 - accuracy: 0.9762 - val_loss: 0.1140 - val_accuracy: 0.9750\n",
            "Epoch 10/100\n",
            "25/25 [==============================] - 0s 6ms/step - loss: 0.1134 - accuracy: 0.9762 - val_loss: 0.1157 - val_accuracy: 0.9750\n",
            "Epoch 11/100\n",
            "25/25 [==============================] - 0s 5ms/step - loss: 0.1133 - accuracy: 0.9762 - val_loss: 0.1137 - val_accuracy: 0.9750\n",
            "Epoch 12/100\n",
            "25/25 [==============================] - 0s 4ms/step - loss: 0.1128 - accuracy: 0.9762 - val_loss: 0.1153 - val_accuracy: 0.9750\n",
            "Epoch 13/100\n",
            "25/25 [==============================] - 0s 5ms/step - loss: 0.1131 - accuracy: 0.9762 - val_loss: 0.1147 - val_accuracy: 0.9750\n",
            "Epoch 14/100\n",
            "25/25 [==============================] - 0s 5ms/step - loss: 0.1132 - accuracy: 0.9762 - val_loss: 0.1155 - val_accuracy: 0.9750\n",
            "Epoch 15/100\n",
            "25/25 [==============================] - 0s 5ms/step - loss: 0.1135 - accuracy: 0.9762 - val_loss: 0.1136 - val_accuracy: 0.9750\n",
            "Epoch 16/100\n",
            "25/25 [==============================] - 0s 5ms/step - loss: 0.1132 - accuracy: 0.9762 - val_loss: 0.1167 - val_accuracy: 0.9750\n",
            "Epoch 17/100\n",
            "25/25 [==============================] - 0s 5ms/step - loss: 0.1131 - accuracy: 0.9762 - val_loss: 0.1153 - val_accuracy: 0.9750\n",
            "Epoch 18/100\n",
            "25/25 [==============================] - 0s 5ms/step - loss: 0.1130 - accuracy: 0.9762 - val_loss: 0.1152 - val_accuracy: 0.9750\n",
            "Epoch 19/100\n",
            "25/25 [==============================] - 0s 4ms/step - loss: 0.1130 - accuracy: 0.9762 - val_loss: 0.1137 - val_accuracy: 0.9750\n",
            "Epoch 20/100\n",
            "25/25 [==============================] - 0s 5ms/step - loss: 0.1130 - accuracy: 0.9762 - val_loss: 0.1155 - val_accuracy: 0.9750\n",
            "Epoch 21/100\n",
            "25/25 [==============================] - 0s 5ms/step - loss: 0.1131 - accuracy: 0.9762 - val_loss: 0.1154 - val_accuracy: 0.9750\n",
            "Epoch 22/100\n",
            "25/25 [==============================] - 0s 4ms/step - loss: 0.1134 - accuracy: 0.9762 - val_loss: 0.1153 - val_accuracy: 0.9750\n",
            "Epoch 23/100\n",
            "25/25 [==============================] - 0s 4ms/step - loss: 0.1135 - accuracy: 0.9762 - val_loss: 0.1160 - val_accuracy: 0.9750\n",
            "Epoch 24/100\n",
            "25/25 [==============================] - 0s 4ms/step - loss: 0.1131 - accuracy: 0.9762 - val_loss: 0.1148 - val_accuracy: 0.9750\n",
            "Epoch 25/100\n",
            "25/25 [==============================] - 0s 5ms/step - loss: 0.1129 - accuracy: 0.9762 - val_loss: 0.1153 - val_accuracy: 0.9750\n",
            "Epoch 26/100\n",
            "25/25 [==============================] - 0s 4ms/step - loss: 0.1131 - accuracy: 0.9762 - val_loss: 0.1144 - val_accuracy: 0.9750\n",
            "Epoch 27/100\n",
            "25/25 [==============================] - 0s 4ms/step - loss: 0.1136 - accuracy: 0.9762 - val_loss: 0.1159 - val_accuracy: 0.9750\n",
            "Epoch 28/100\n",
            "25/25 [==============================] - 0s 5ms/step - loss: 0.1128 - accuracy: 0.9762 - val_loss: 0.1141 - val_accuracy: 0.9750\n",
            "Epoch 29/100\n",
            "25/25 [==============================] - 0s 5ms/step - loss: 0.1138 - accuracy: 0.9762 - val_loss: 0.1152 - val_accuracy: 0.9750\n",
            "Epoch 30/100\n",
            "25/25 [==============================] - 0s 5ms/step - loss: 0.1130 - accuracy: 0.9762 - val_loss: 0.1143 - val_accuracy: 0.9750\n",
            "Epoch 31/100\n",
            "25/25 [==============================] - 0s 5ms/step - loss: 0.1132 - accuracy: 0.9762 - val_loss: 0.1151 - val_accuracy: 0.9750\n",
            "Epoch 32/100\n",
            "25/25 [==============================] - 0s 5ms/step - loss: 0.1134 - accuracy: 0.9762 - val_loss: 0.1133 - val_accuracy: 0.9750\n",
            "Epoch 33/100\n",
            "25/25 [==============================] - 0s 6ms/step - loss: 0.1135 - accuracy: 0.9762 - val_loss: 0.1162 - val_accuracy: 0.9750\n",
            "Epoch 34/100\n",
            "25/25 [==============================] - 0s 6ms/step - loss: 0.1132 - accuracy: 0.9762 - val_loss: 0.1149 - val_accuracy: 0.9750\n",
            "Epoch 35/100\n",
            "25/25 [==============================] - 0s 5ms/step - loss: 0.1127 - accuracy: 0.9762 - val_loss: 0.1147 - val_accuracy: 0.9750\n",
            "Epoch 36/100\n",
            "25/25 [==============================] - 0s 7ms/step - loss: 0.1131 - accuracy: 0.9762 - val_loss: 0.1136 - val_accuracy: 0.9750\n",
            "Epoch 37/100\n",
            "25/25 [==============================] - 0s 5ms/step - loss: 0.1129 - accuracy: 0.9762 - val_loss: 0.1150 - val_accuracy: 0.9750\n",
            "Epoch 38/100\n",
            "25/25 [==============================] - 0s 5ms/step - loss: 0.1130 - accuracy: 0.9762 - val_loss: 0.1146 - val_accuracy: 0.9750\n",
            "Epoch 39/100\n",
            "25/25 [==============================] - 0s 5ms/step - loss: 0.1130 - accuracy: 0.9762 - val_loss: 0.1151 - val_accuracy: 0.9750\n",
            "Epoch 40/100\n",
            "25/25 [==============================] - 0s 4ms/step - loss: 0.1135 - accuracy: 0.9762 - val_loss: 0.1140 - val_accuracy: 0.9750\n",
            "Epoch 41/100\n",
            "25/25 [==============================] - 0s 5ms/step - loss: 0.1130 - accuracy: 0.9762 - val_loss: 0.1157 - val_accuracy: 0.9750\n",
            "Epoch 42/100\n",
            "25/25 [==============================] - 0s 5ms/step - loss: 0.1130 - accuracy: 0.9762 - val_loss: 0.1145 - val_accuracy: 0.9750\n",
            "Epoch 43/100\n",
            "25/25 [==============================] - 0s 5ms/step - loss: 0.1128 - accuracy: 0.9762 - val_loss: 0.1157 - val_accuracy: 0.9750\n",
            "Epoch 44/100\n",
            "25/25 [==============================] - 0s 6ms/step - loss: 0.1133 - accuracy: 0.9762 - val_loss: 0.1161 - val_accuracy: 0.9750\n",
            "Epoch 45/100\n",
            "25/25 [==============================] - 0s 5ms/step - loss: 0.1137 - accuracy: 0.9762 - val_loss: 0.1156 - val_accuracy: 0.9750\n",
            "Epoch 46/100\n",
            "25/25 [==============================] - 0s 5ms/step - loss: 0.1132 - accuracy: 0.9762 - val_loss: 0.1142 - val_accuracy: 0.9750\n",
            "Epoch 47/100\n",
            "25/25 [==============================] - 0s 5ms/step - loss: 0.1131 - accuracy: 0.9762 - val_loss: 0.1135 - val_accuracy: 0.9750\n",
            "Epoch 48/100\n",
            "25/25 [==============================] - 0s 4ms/step - loss: 0.1132 - accuracy: 0.9762 - val_loss: 0.1146 - val_accuracy: 0.9750\n",
            "Epoch 49/100\n",
            "25/25 [==============================] - 0s 4ms/step - loss: 0.1131 - accuracy: 0.9762 - val_loss: 0.1168 - val_accuracy: 0.9750\n",
            "Epoch 50/100\n",
            "25/25 [==============================] - 0s 5ms/step - loss: 0.1135 - accuracy: 0.9762 - val_loss: 0.1148 - val_accuracy: 0.9750\n",
            "Epoch 51/100\n",
            "25/25 [==============================] - 0s 5ms/step - loss: 0.1139 - accuracy: 0.9762 - val_loss: 0.1157 - val_accuracy: 0.9750\n",
            "Epoch 52/100\n",
            "25/25 [==============================] - 0s 5ms/step - loss: 0.1136 - accuracy: 0.9762 - val_loss: 0.1139 - val_accuracy: 0.9750\n",
            "Epoch 53/100\n",
            "25/25 [==============================] - 0s 5ms/step - loss: 0.1130 - accuracy: 0.9762 - val_loss: 0.1150 - val_accuracy: 0.9750\n",
            "Epoch 54/100\n",
            "25/25 [==============================] - 0s 4ms/step - loss: 0.1134 - accuracy: 0.9762 - val_loss: 0.1172 - val_accuracy: 0.9750\n",
            "Epoch 55/100\n",
            "25/25 [==============================] - 0s 4ms/step - loss: 0.1128 - accuracy: 0.9762 - val_loss: 0.1167 - val_accuracy: 0.9750\n",
            "Epoch 56/100\n",
            "25/25 [==============================] - 0s 4ms/step - loss: 0.1131 - accuracy: 0.9762 - val_loss: 0.1133 - val_accuracy: 0.9750\n",
            "Epoch 57/100\n",
            "25/25 [==============================] - 0s 4ms/step - loss: 0.1139 - accuracy: 0.9762 - val_loss: 0.1164 - val_accuracy: 0.9750\n",
            "Epoch 58/100\n",
            "25/25 [==============================] - 0s 4ms/step - loss: 0.1139 - accuracy: 0.9762 - val_loss: 0.1144 - val_accuracy: 0.9750\n",
            "Epoch 59/100\n",
            "25/25 [==============================] - 0s 6ms/step - loss: 0.1125 - accuracy: 0.9762 - val_loss: 0.1153 - val_accuracy: 0.9750\n",
            "Epoch 60/100\n",
            "25/25 [==============================] - 0s 3ms/step - loss: 0.1141 - accuracy: 0.9762 - val_loss: 0.1152 - val_accuracy: 0.9750\n",
            "Epoch 61/100\n",
            "25/25 [==============================] - 0s 4ms/step - loss: 0.1131 - accuracy: 0.9762 - val_loss: 0.1155 - val_accuracy: 0.9750\n",
            "Epoch 62/100\n",
            "25/25 [==============================] - 0s 4ms/step - loss: 0.1133 - accuracy: 0.9762 - val_loss: 0.1146 - val_accuracy: 0.9750\n",
            "Epoch 63/100\n",
            "25/25 [==============================] - 0s 5ms/step - loss: 0.1131 - accuracy: 0.9762 - val_loss: 0.1156 - val_accuracy: 0.9750\n",
            "Epoch 64/100\n",
            "25/25 [==============================] - 0s 4ms/step - loss: 0.1134 - accuracy: 0.9762 - val_loss: 0.1132 - val_accuracy: 0.9750\n",
            "Epoch 65/100\n",
            "25/25 [==============================] - 0s 4ms/step - loss: 0.1139 - accuracy: 0.9762 - val_loss: 0.1147 - val_accuracy: 0.9750\n",
            "Epoch 66/100\n",
            "25/25 [==============================] - 0s 4ms/step - loss: 0.1133 - accuracy: 0.9762 - val_loss: 0.1136 - val_accuracy: 0.9750\n",
            "Epoch 67/100\n",
            "25/25 [==============================] - 0s 4ms/step - loss: 0.1131 - accuracy: 0.9762 - val_loss: 0.1153 - val_accuracy: 0.9750\n",
            "Epoch 68/100\n",
            "25/25 [==============================] - 0s 4ms/step - loss: 0.1130 - accuracy: 0.9762 - val_loss: 0.1156 - val_accuracy: 0.9750\n",
            "Epoch 69/100\n",
            "25/25 [==============================] - 0s 4ms/step - loss: 0.1131 - accuracy: 0.9762 - val_loss: 0.1143 - val_accuracy: 0.9750\n",
            "Epoch 70/100\n",
            "25/25 [==============================] - 0s 4ms/step - loss: 0.1132 - accuracy: 0.9762 - val_loss: 0.1141 - val_accuracy: 0.9750\n",
            "Epoch 71/100\n",
            "25/25 [==============================] - 0s 5ms/step - loss: 0.1134 - accuracy: 0.9762 - val_loss: 0.1166 - val_accuracy: 0.9750\n",
            "Epoch 72/100\n",
            "25/25 [==============================] - 0s 5ms/step - loss: 0.1134 - accuracy: 0.9762 - val_loss: 0.1145 - val_accuracy: 0.9750\n",
            "Epoch 73/100\n",
            "25/25 [==============================] - 0s 5ms/step - loss: 0.1130 - accuracy: 0.9762 - val_loss: 0.1149 - val_accuracy: 0.9750\n",
            "Epoch 74/100\n",
            "25/25 [==============================] - 0s 4ms/step - loss: 0.1132 - accuracy: 0.9762 - val_loss: 0.1136 - val_accuracy: 0.9750\n",
            "Epoch 75/100\n",
            "25/25 [==============================] - 0s 5ms/step - loss: 0.1135 - accuracy: 0.9762 - val_loss: 0.1144 - val_accuracy: 0.9750\n",
            "Epoch 76/100\n",
            "25/25 [==============================] - 0s 4ms/step - loss: 0.1133 - accuracy: 0.9762 - val_loss: 0.1143 - val_accuracy: 0.9750\n",
            "Epoch 77/100\n",
            "25/25 [==============================] - 0s 4ms/step - loss: 0.1130 - accuracy: 0.9762 - val_loss: 0.1163 - val_accuracy: 0.9750\n",
            "Epoch 78/100\n",
            "25/25 [==============================] - 0s 5ms/step - loss: 0.1131 - accuracy: 0.9762 - val_loss: 0.1150 - val_accuracy: 0.9750\n",
            "Epoch 79/100\n",
            "25/25 [==============================] - 0s 5ms/step - loss: 0.1134 - accuracy: 0.9762 - val_loss: 0.1165 - val_accuracy: 0.9750\n",
            "Epoch 80/100\n",
            "25/25 [==============================] - 0s 4ms/step - loss: 0.1130 - accuracy: 0.9762 - val_loss: 0.1139 - val_accuracy: 0.9750\n",
            "Epoch 81/100\n",
            "25/25 [==============================] - 0s 5ms/step - loss: 0.1136 - accuracy: 0.9762 - val_loss: 0.1137 - val_accuracy: 0.9750\n",
            "Epoch 82/100\n",
            "25/25 [==============================] - 0s 5ms/step - loss: 0.1136 - accuracy: 0.9762 - val_loss: 0.1135 - val_accuracy: 0.9750\n",
            "Epoch 83/100\n",
            "25/25 [==============================] - 0s 5ms/step - loss: 0.1131 - accuracy: 0.9762 - val_loss: 0.1165 - val_accuracy: 0.9750\n",
            "Epoch 84/100\n",
            "25/25 [==============================] - 0s 5ms/step - loss: 0.1130 - accuracy: 0.9762 - val_loss: 0.1157 - val_accuracy: 0.9750\n",
            "Epoch 85/100\n",
            "25/25 [==============================] - 0s 4ms/step - loss: 0.1130 - accuracy: 0.9762 - val_loss: 0.1152 - val_accuracy: 0.9750\n",
            "Epoch 86/100\n",
            "25/25 [==============================] - 0s 5ms/step - loss: 0.1135 - accuracy: 0.9762 - val_loss: 0.1150 - val_accuracy: 0.9750\n",
            "Epoch 87/100\n",
            "25/25 [==============================] - 0s 5ms/step - loss: 0.1130 - accuracy: 0.9762 - val_loss: 0.1135 - val_accuracy: 0.9750\n",
            "Epoch 88/100\n",
            "25/25 [==============================] - 0s 4ms/step - loss: 0.1134 - accuracy: 0.9762 - val_loss: 0.1135 - val_accuracy: 0.9750\n",
            "Epoch 89/100\n",
            "25/25 [==============================] - 0s 4ms/step - loss: 0.1133 - accuracy: 0.9762 - val_loss: 0.1163 - val_accuracy: 0.9750\n",
            "Epoch 90/100\n",
            "25/25 [==============================] - 0s 4ms/step - loss: 0.1134 - accuracy: 0.9762 - val_loss: 0.1139 - val_accuracy: 0.9750\n",
            "Epoch 91/100\n",
            "25/25 [==============================] - 0s 5ms/step - loss: 0.1129 - accuracy: 0.9762 - val_loss: 0.1160 - val_accuracy: 0.9750\n",
            "Epoch 92/100\n",
            "25/25 [==============================] - 0s 4ms/step - loss: 0.1132 - accuracy: 0.9762 - val_loss: 0.1150 - val_accuracy: 0.9750\n",
            "Epoch 93/100\n",
            "25/25 [==============================] - 0s 4ms/step - loss: 0.1130 - accuracy: 0.9762 - val_loss: 0.1154 - val_accuracy: 0.9750\n",
            "Epoch 94/100\n",
            "25/25 [==============================] - 0s 4ms/step - loss: 0.1133 - accuracy: 0.9762 - val_loss: 0.1155 - val_accuracy: 0.9750\n",
            "Epoch 95/100\n",
            "25/25 [==============================] - 0s 4ms/step - loss: 0.1129 - accuracy: 0.9762 - val_loss: 0.1143 - val_accuracy: 0.9750\n",
            "Epoch 96/100\n",
            "25/25 [==============================] - 0s 4ms/step - loss: 0.1132 - accuracy: 0.9762 - val_loss: 0.1156 - val_accuracy: 0.9750\n",
            "Epoch 97/100\n",
            "25/25 [==============================] - 0s 4ms/step - loss: 0.1140 - accuracy: 0.9762 - val_loss: 0.1152 - val_accuracy: 0.9750\n",
            "Epoch 98/100\n",
            "25/25 [==============================] - 0s 4ms/step - loss: 0.1141 - accuracy: 0.9762 - val_loss: 0.1147 - val_accuracy: 0.9750\n",
            "Epoch 99/100\n",
            "25/25 [==============================] - 0s 4ms/step - loss: 0.1143 - accuracy: 0.9762 - val_loss: 0.1147 - val_accuracy: 0.9750\n",
            "Epoch 100/100\n",
            "25/25 [==============================] - 0s 4ms/step - loss: 0.1138 - accuracy: 0.9762 - val_loss: 0.1132 - val_accuracy: 0.9750\n"
          ]
        }
      ],
      "source": [
        "\n",
        "model=tf.keras.Sequential([tf.keras.layers.Dense(1,activation=\"sigmoid\")])\n",
        "model.compile(loss=tf.keras.losses.BinaryCrossentropy(),optimizer=tf.keras.optimizers.Adam(0.1), metrics=[\"accuracy\"])\n",
        "history=model.fit(X_train,y_train,validation_data=(X_test,y_test),epochs=100)"
      ]
    },
    {
      "cell_type": "code",
      "execution_count": 38,
      "metadata": {
        "colab": {
          "base_uri": "https://localhost:8080/"
        },
        "id": "1ue4ykaxoqdP",
        "outputId": "ccdbb930-00a3-4d25-9bb1-a3d1f81a67c4"
      },
      "outputs": [
        {
          "name": "stdout",
          "output_type": "stream",
          "text": [
            "Model: \"sequential_2\"\n",
            "_________________________________________________________________\n",
            " Layer (type)                Output Shape              Param #   \n",
            "=================================================================\n",
            " dense_2 (Dense)             (None, 1)                 2         \n",
            "                                                                 \n",
            "=================================================================\n",
            "Total params: 2\n",
            "Trainable params: 2\n",
            "Non-trainable params: 0\n",
            "_________________________________________________________________\n"
          ]
        }
      ],
      "source": [
        "model.summary()"
      ]
    },
    {
      "cell_type": "code",
      "execution_count": 39,
      "metadata": {
        "id": "GJKFcvAEg2FW"
      },
      "outputs": [],
      "source": [
        "y_pred=model.predict(X_test).ravel()\n"
      ]
    },
    {
      "cell_type": "code",
      "execution_count": 40,
      "metadata": {
        "colab": {
          "base_uri": "https://localhost:8080/"
        },
        "id": "FmQK6-JUv_UB",
        "outputId": "46530950-d439-4da0-df80-036f8087ded3"
      },
      "outputs": [
        {
          "data": {
            "text/plain": [
              "<tf.Tensor: shape=(200,), dtype=float64, numpy=\n",
              "array([0., 0., 0., 0., 0., 0., 0., 0., 0., 0., 0., 0., 0., 0., 0., 0., 0.,\n",
              "       0., 0., 0., 0., 0., 0., 0., 0., 0., 0., 0., 0., 0., 0., 0., 0., 0.,\n",
              "       0., 0., 0., 0., 0., 0., 0., 0., 0., 0., 0., 1., 0., 0., 0., 0., 0.,\n",
              "       0., 0., 0., 0., 0., 0., 0., 0., 0., 0., 0., 0., 0., 0., 0., 0., 0.,\n",
              "       0., 0., 0., 0., 0., 0., 0., 0., 0., 0., 0., 1., 0., 0., 0., 0., 1.,\n",
              "       0., 0., 0., 0., 0., 0., 0., 0., 0., 0., 0., 0., 0., 0., 0., 0., 0.,\n",
              "       0., 0., 0., 0., 0., 0., 0., 0., 0., 0., 0., 0., 0., 0., 0., 0., 0.,\n",
              "       0., 0., 0., 0., 0., 0., 0., 1., 0., 0., 0., 0., 0., 0., 0., 0., 0.,\n",
              "       0., 0., 0., 0., 0., 0., 0., 0., 0., 0., 0., 0., 0., 0., 0., 0., 0.,\n",
              "       0., 0., 0., 0., 0., 0., 0., 0., 0., 0., 0., 0., 0., 0., 0., 0., 0.,\n",
              "       0., 0., 1., 0., 0., 0., 0., 0., 0., 0., 0., 0., 0., 0., 0., 0., 0.,\n",
              "       0., 0., 0., 0., 0., 0., 0., 0., 0., 0., 0., 0., 0.])>"
            ]
          },
          "execution_count": 40,
          "metadata": {},
          "output_type": "execute_result"
        }
      ],
      "source": [
        "y_test"
      ]
    },
    {
      "cell_type": "code",
      "execution_count": 41,
      "metadata": {
        "colab": {
          "base_uri": "https://localhost:8080/",
          "height": 265
        },
        "id": "hnIx1i76hX2k",
        "outputId": "6490ad2c-4e0b-48bd-862a-7e7973ff1481"
      },
      "outputs": [
        {
          "data": {
            "image/png": "[encoded data removed]",
            "text/plain": [
              "<Figure size 432x288 with 1 Axes>"
            ]
          },
          "metadata": {
            "needs_background": "light"
          },
          "output_type": "display_data"
        }
      ],
      "source": [
        "#plot the graph Loss vs Accuracy cuve\n",
        "pd.DataFrame(history.history).plot()\n",
        "plt.show()"
      ]
    },
    {
      "cell_type": "code",
      "execution_count": 27,
      "metadata": {
        "colab": {
          "base_uri": "https://localhost:8080/"
        },
        "id": "tE3c64KrvuoV",
        "outputId": "2b7425f6-12de-4296-8b9b-49ae8635892e"
      },
      "outputs": [
        {
          "data": {
            "text/plain": [
              "array([[0.01840597]], dtype=float32)"
            ]
          },
          "execution_count": 27,
          "metadata": {},
          "output_type": "execute_result"
        }
      ],
      "source": [
        "a=tf.constant([[1]])\n",
        "h=model.predict(a)\n",
        "h"
      ]
    },
    {
      "cell_type": "code",
      "execution_count": 27,
      "metadata": {
        "id": "hMtCyLp4AraR"
      },
      "outputs": [],
      "source": []
    },
    {
      "cell_type": "code",
      "execution_count": 28,
      "metadata": {
        "colab": {
          "base_uri": "https://localhost:8080/"
        },
        "id": "7HZJmKA0tHOI",
        "outputId": "6987d43f-d93f-420b-b7d3-a13caa467528"
      },
      "outputs": [
        {
          "data": {
            "text/plain": [
              "array([[195,   0],\n",
              "       [  5,   0]])"
            ]
          },
          "execution_count": 28,
          "metadata": {},
          "output_type": "execute_result"
        }
      ],
      "source": [
        "from sklearn import metrics\n",
        "\n",
        "a=y_test.numpy()\n",
        "b=y_pred\n",
        "c=[]\n",
        "for i in range(len(b)):\n",
        "  if(b[i]>=0.5):\n",
        "    c.append(1)\n",
        "  else:\n",
        "    c.append(0)\n",
        "c=np.array(c)\n",
        "cm=metrics.confusion_matrix(a,c)\n",
        "cm"
      ]
    },
    {
      "cell_type": "code",
      "execution_count": 31,
      "metadata": {
        "colab": {
          "base_uri": "https://localhost:8080/",
          "height": 337
        },
        "id": "J0u6HCuRA4k1",
        "outputId": "a6f9262a-cf5c-4acb-b0e1-3f13256b8611"
      },
      "outputs": [
        {
          "data": {
            "text/plain": [
              "<matplotlib.axes._subplots.AxesSubplot at 0x7efef460c310>"
            ]
          },
          "execution_count": 31,
          "metadata": {},
          "output_type": "execute_result"
        },
        {
          "data": {
            "image/png": "[encoded data removed]",
            "text/plain": [
              "<Figure size 360x360 with 2 Axes>"
            ]
          },
          "metadata": {
            "needs_background": "light"
          },
          "output_type": "display_data"
        }
      ],
      "source": [
        "import seaborn as sn\n",
        "cm_df=pd.DataFrame(cm,index=[i for i in [\"positive\",\"negative\"]],columns=[i for i in [\"positve\",\"negative\"]])\n",
        "plt.figure(figsize=(5,5))\n",
        "sn.heatmap(cm_df/np.sum(cm),annot=True,fmt='.2%',cmap=\"Blues\")"
      ]
    },
    {
      "cell_type": "code",
      "execution_count": 32,
      "metadata": {
        "id": "DOpNr5spDRar"
      },
      "outputs": [],
      "source": [
        "e,f,g=metrics.roc_curve(y_test,y_pred)"
      ]
    },
    {
      "cell_type": "code",
      "execution_count": 33,
      "metadata": {
        "colab": {
          "base_uri": "https://localhost:8080/",
          "height": 282
        },
        "id": "ppriWbD9JEY8",
        "outputId": "f613ae2d-5a49-4e63-9d22-fc25609ec507"
      },
      "outputs": [
        {
          "data": {
            "text/plain": [
              "[<matplotlib.lines.Line2D at 0x7efef44acd50>]"
            ]
          },
          "execution_count": 33,
          "metadata": {},
          "output_type": "execute_result"
        },
        {
          "data": {
            "image/png": "[encoded data removed]",
            "text/plain": [
              "<Figure size 432x288 with 1 Axes>"
            ]
          },
          "metadata": {
            "needs_background": "light"
          },
          "output_type": "display_data"
        }
      ],
      "source": [
        "plt.plot(e,f)"
      ]
    },
    {
      "cell_type": "code",
      "execution_count": 34,
      "metadata": {
        "colab": {
          "base_uri": "https://localhost:8080/",
          "height": 282
        },
        "id": "uUydQ_N7JM9j",
        "outputId": "9aed2bd7-638b-41ec-ac3b-dee8e160a4fa"
      },
      "outputs": [
        {
          "data": {
            "text/plain": [
              "[<matplotlib.lines.Line2D at 0x7efef441c810>]"
            ]
          },
          "execution_count": 34,
          "metadata": {},
          "output_type": "execute_result"
        },
        {
          "data": {
            "image/png": "[encoded data removed]",
            "text/plain": [
              "<Figure size 432x288 with 1 Axes>"
            ]
          },
          "metadata": {
            "needs_background": "light"
          },
          "output_type": "display_data"
        }
      ],
      "source": [
        "au=metrics.auc(e,f)\n",
        "plt.plot(e,f,marker='.')"
      ]
    },
    {
      "cell_type": "markdown",
      "metadata": {},
      "source": [
        "CONCLUSION\n",
        "The following data Has lot of noises which increases the chances of model being Biased Towards Positive there fore this Data is not fit to Classification "
      ]
    }
  ],
  "metadata": {
    "colab": {
      "collapsed_sections": [],
      "name": "Logisticregression.ipynb",
      "provenance": [],
      "toc_visible": true
    },
    "kernelspec": {
      "display_name": "Python 3",
      "name": "python3"
    },
    "language_info": {
      "name": "python"
    }
  },
  "nbformat": 4,
  "nbformat_minor": 0
}
